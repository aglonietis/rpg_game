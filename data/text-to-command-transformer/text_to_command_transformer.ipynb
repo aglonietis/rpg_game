{
 "cells": [
  {
   "cell_type": "code",
   "execution_count": 1,
   "id": "542e6195-6de4-4215-87d7-4004d242b17b",
   "metadata": {},
   "outputs": [
    {
     "name": "stdout",
     "output_type": "stream",
     "text": [
      "Hello, pip installation is done\n"
     ]
    }
   ],
   "source": [
    "!pip install transformers > /dev/null 2>&1\n",
    "!pip install datasets \"transformers[sentencepiece]\" > /dev/null 2>&1\n",
    "!pip install sentencepiece > /dev/null 2>&1\n",
    "!pip install bitsandbytes > /dev/null 2>&1\n",
    "!pip install accelerate -U > /dev/null 2>&1\n",
    "!pip install --upgrade jupyterlab ipywidgets > /dev/null 2>&1\n",
    "!pip install evaluate > /dev/null 2>&1\n",
    "\n",
    "print(\"Hello, pip installation is done\")"
   ]
  },
  {
   "cell_type": "code",
   "execution_count": 2,
   "id": "e0e4f5ad-30ae-44a8-bb4e-da151692b9f7",
   "metadata": {},
   "outputs": [
    {
     "name": "stdout",
     "output_type": "stream",
     "text": [
      "Dataset({\n",
      "    features: ['input', 'output'],\n",
      "    num_rows: 900\n",
      "})\n",
      "                                   input  \\\n",
      "0    Create a blue pyramid at 25 -31 -79   \n",
      "1     Create a green pyramid at 12 74 53   \n",
      "2     Create a green pyramid at 19 23 84   \n",
      "3         Create a red cube at -30 81 28   \n",
      "4  Create a yellow pyramid at -63 13 -63   \n",
      "\n",
      "                                              output  \n",
      "0  createObject(type='pyramid', color='blue', loc...  \n",
      "1  createObject(type='pyramid', color='green', lo...  \n",
      "2  createObject(type='pyramid', color='green', lo...  \n",
      "3  createObject(type='cube', color='red', locatio...  \n",
      "4  createObject(type='pyramid', color='yellow', l...  \n"
     ]
    }
   ],
   "source": [
    "from datasets import Dataset\n",
    "import pandas as pd\n",
    "\n",
    "df = pd.read_csv('datasets/text_to_command_dataset_v1.csv')\n",
    "\n",
    "dataset = Dataset.from_pandas(df)\n",
    "\n",
    "print(dataset)\n",
    "print(df.head())\n",
    "\n"
   ]
  },
  {
   "cell_type": "code",
   "execution_count": 3,
   "id": "952e9cdb-38ba-40d0-bcf8-5b136f670387",
   "metadata": {},
   "outputs": [
    {
     "name": "stderr",
     "output_type": "stream",
     "text": [
      "You are using the default legacy behaviour of the <class 'transformers.models.t5.tokenization_t5.T5Tokenizer'>. This is expected, and simply means that the `legacy` (previous) behavior will be used so nothing changes for you. If you want to use the new behaviour, set `legacy=False`. This should only be set if you understand what it means, and thoroughly read the reason why this was added as explained in https://github.com/huggingface/transformers/pull/24565\n"
     ]
    },
    {
     "data": {
      "application/vnd.jupyter.widget-view+json": {
       "model_id": "b1a3f8f031ea4847913c475456e5b578",
       "version_major": 2,
       "version_minor": 0
      },
      "text/plain": [
       "Map:   0%|          | 0/900 [00:00<?, ? examples/s]"
      ]
     },
     "metadata": {},
     "output_type": "display_data"
    },
    {
     "name": "stdout",
     "output_type": "stream",
     "text": [
      "Train size: 720, Test size: 180\n",
      "{'input_ids': [3, 28141, 22734, 1, 0, 0, 0, 0, 0, 0, 0, 0, 0, 0, 0, 0, 0, 0, 0, 0, 0, 0, 0, 0, 0, 0, 0, 0, 0, 0, 0, 0, 0, 0, 0, 0, 0, 0, 0, 0, 0, 0, 0, 0, 0, 0, 0, 0, 0, 0, 0, 0, 0, 0, 0, 0, 0, 0, 0, 0, 0, 0, 0, 0, 0, 0, 0, 0, 0, 0, 0, 0, 0, 0, 0, 0, 0, 0, 0, 0, 0, 0, 0, 0, 0, 0, 0, 0, 0, 0, 0, 0, 0, 0, 0, 0, 0, 0, 0, 0, 0, 0, 0, 0, 0, 0, 0, 0, 0, 0, 0, 0, 0, 0, 0, 0, 0, 0, 0, 0, 0, 0, 0, 0, 0, 0, 0, 0], 'attention_mask': [1, 1, 1, 1, 0, 0, 0, 0, 0, 0, 0, 0, 0, 0, 0, 0, 0, 0, 0, 0, 0, 0, 0, 0, 0, 0, 0, 0, 0, 0, 0, 0, 0, 0, 0, 0, 0, 0, 0, 0, 0, 0, 0, 0, 0, 0, 0, 0, 0, 0, 0, 0, 0, 0, 0, 0, 0, 0, 0, 0, 0, 0, 0, 0, 0, 0, 0, 0, 0, 0, 0, 0, 0, 0, 0, 0, 0, 0, 0, 0, 0, 0, 0, 0, 0, 0, 0, 0, 0, 0, 0, 0, 0, 0, 0, 0, 0, 0, 0, 0, 0, 0, 0, 0, 0, 0, 0, 0, 0, 0, 0, 0, 0, 0, 0, 0, 0, 0, 0, 0, 0, 0, 0, 0, 0, 0, 0, 0], 'labels': [9268, 17057, 599, 24315, 2423, 31, 20455, 9, 6983, 31, 61, 1, 0, 0, 0, 0, 0, 0, 0, 0, 0, 0, 0, 0, 0, 0, 0, 0, 0, 0, 0, 0, 0, 0, 0, 0, 0, 0, 0, 0, 0, 0, 0, 0, 0, 0, 0, 0, 0, 0, 0, 0, 0, 0, 0, 0, 0, 0, 0, 0, 0, 0, 0, 0, 0, 0, 0, 0, 0, 0, 0, 0, 0, 0, 0, 0, 0, 0, 0, 0, 0, 0, 0, 0, 0, 0, 0, 0, 0, 0, 0, 0, 0, 0, 0, 0, 0, 0, 0, 0, 0, 0, 0, 0, 0, 0, 0, 0, 0, 0, 0, 0, 0, 0, 0, 0, 0, 0, 0, 0, 0, 0, 0, 0, 0, 0, 0, 0]}\n"
     ]
    }
   ],
   "source": [
    "\n",
    "from transformers import T5Tokenizer\n",
    "\n",
    "tokenizer = T5Tokenizer.from_pretrained('t5-small')\n",
    "\n",
    "def tokenize_function(examples):\n",
    "    model_inputs = tokenizer(examples['input'], max_length=128, truncation=True, padding='max_length')\n",
    "    labels = tokenizer(examples['output'], max_length=128, truncation=True, padding='max_length')\n",
    "    \n",
    "    # Store the labels\n",
    "    model_inputs[\"labels\"] = labels[\"input_ids\"]\n",
    "    return model_inputs\n",
    "\n",
    "# Step to shuffle the dataset before processing\n",
    "shuffled_dataset = dataset.shuffle(seed=42)  # You can set a seed for reproducibility\n",
    "# Tokenize the dataset\n",
    "tokenized_dataset = shuffled_dataset.map(tokenize_function, batched=True)\n",
    "# Remove non-tokenized columns to clean the dataset\n",
    "tokenized_dataset = tokenized_dataset.remove_columns(['input', 'output'])\n",
    "\n",
    "\n",
    "# Split the dataset into 80% train and 20% test\n",
    "train_test_split = tokenized_dataset.train_test_split(test_size=0.2)\n",
    "\n",
    "# Access the train and test sets\n",
    "train_dataset = train_test_split['train']\n",
    "eval_dataset = train_test_split['test']\n",
    "\n",
    "# Verify the sizes\n",
    "print(f\"Train size: {len(train_dataset)}, Test size: {len(eval_dataset)}\")\n",
    "print(tokenized_dataset[0])"
   ]
  },
  {
   "cell_type": "code",
   "execution_count": 4,
   "id": "39ec1ae2-fd63-40be-87c6-c3a67db4e20a",
   "metadata": {},
   "outputs": [],
   "source": [
    "from sklearn.metrics import accuracy_score\n",
    "import numpy as np\n",
    "import evaluate\n",
    "\n",
    "metric = evaluate.load(\"accuracy\")\n",
    "\n",
    "def compute_metrics(eval_pred):\n",
    "    predictions, labels = eval_pred\n",
    "    # Convert predictions and labels to text (if using text generation models like T5)\n",
    "    decoded_preds = tokenizer.batch_decode(predictions, skip_special_tokens=True)\n",
    "    decoded_labels = tokenizer.batch_decode(labels, skip_special_tokens=True)\n",
    "    \n",
    "    # Optionally, log the decoded predictions and labels\n",
    "    for i in range(5):  # Log the first 5 predictions\n",
    "        print(f\"Prediction: {decoded_preds[i]}\")\n",
    "        print(f\"Label: {decoded_labels[i]}\")\n",
    "        print('-' * 30)\n",
    "    \n",
    "    # Calculate your metrics (example: accuracy for simple tasks)\n",
    "    acc = accuracy_score(decoded_labels, decoded_preds)\n",
    "    \n",
    "    return {\"accuracy\": acc}"
   ]
  },
  {
   "cell_type": "code",
   "execution_count": 5,
   "id": "e3a89069-09e5-49a1-b2db-fe6dbf2e13f4",
   "metadata": {},
   "outputs": [],
   "source": [
    "from transformers import TrainingArguments,Seq2SeqTrainer, AutoModelForSeq2SeqLM, Seq2SeqTrainingArguments\n",
    "\n",
    "model = AutoModelForSeq2SeqLM.from_pretrained('t5-small')\n",
    "\n",
    "training_args = Seq2SeqTrainingArguments(\n",
    "    output_dir=\"test_trainer\",\n",
    "    eval_strategy=\"epoch\",\n",
    "    learning_rate=5e-5,\n",
    "    per_device_train_batch_size=8,\n",
    "    per_device_eval_batch_size=8,\n",
    "    weight_decay=0.01,\n",
    "    # save_total_limit=3,\n",
    "    num_train_epochs=5,\n",
    "    predict_with_generate=True,\n",
    "    logging_dir='./logs',\n",
    "    fp16=False,\n",
    "    max_new_tokens=128\n",
    ")\n",
    "\n",
    "trainer = Seq2SeqTrainer(\n",
    "    model=model,\n",
    "    args=training_args,\n",
    "    train_dataset=train_dataset,\n",
    "    eval_dataset=eval_dataset,\n",
    "    compute_metrics=compute_metrics,\n",
    ")"
   ]
  },
  {
   "cell_type": "code",
   "execution_count": 6,
   "id": "025a26ee-61c0-4b19-a48f-f84a1580c25c",
   "metadata": {},
   "outputs": [
    {
     "data": {
      "text/html": [
       "\n",
       "    <div>\n",
       "      \n",
       "      <progress value='450' max='450' style='width:300px; height:20px; vertical-align: middle;'></progress>\n",
       "      [450/450 03:34, Epoch 5/5]\n",
       "    </div>\n",
       "    <table border=\"1\" class=\"dataframe\">\n",
       "  <thead>\n",
       " <tr style=\"text-align: left;\">\n",
       "      <th>Epoch</th>\n",
       "      <th>Training Loss</th>\n",
       "      <th>Validation Loss</th>\n",
       "      <th>Accuracy</th>\n",
       "    </tr>\n",
       "  </thead>\n",
       "  <tbody>\n",
       "    <tr>\n",
       "      <td>1</td>\n",
       "      <td>No log</td>\n",
       "      <td>0.718417</td>\n",
       "      <td>0.000000</td>\n",
       "    </tr>\n",
       "    <tr>\n",
       "      <td>2</td>\n",
       "      <td>No log</td>\n",
       "      <td>0.236208</td>\n",
       "      <td>0.000000</td>\n",
       "    </tr>\n",
       "    <tr>\n",
       "      <td>3</td>\n",
       "      <td>No log</td>\n",
       "      <td>0.109732</td>\n",
       "      <td>0.000000</td>\n",
       "    </tr>\n",
       "    <tr>\n",
       "      <td>4</td>\n",
       "      <td>No log</td>\n",
       "      <td>0.083314</td>\n",
       "      <td>0.027778</td>\n",
       "    </tr>\n",
       "    <tr>\n",
       "      <td>5</td>\n",
       "      <td>No log</td>\n",
       "      <td>0.077656</td>\n",
       "      <td>0.144444</td>\n",
       "    </tr>\n",
       "  </tbody>\n",
       "</table><p>"
      ],
      "text/plain": [
       "<IPython.core.display.HTML object>"
      ]
     },
     "metadata": {},
     "output_type": "display_data"
    },
    {
     "name": "stderr",
     "output_type": "stream",
     "text": [
      "/opt/anaconda3/lib/python3.10/site-packages/transformers/generation/utils.py:1220: UserWarning: Using the model-agnostic default `max_length` (=20) to control the generation length. We recommend setting `max_new_tokens` to control the maximum length of the generation.\n",
      "  warnings.warn(\n"
     ]
    },
    {
     "name": "stdout",
     "output_type": "stream",
     "text": [
      "Prediction: \n",
      "Label: changeColor(target='sphere', color='blue')\n",
      "------------------------------\n",
      "Prediction: \n",
      "Label: duplicateObject(target='pyramid', location=x:-56, y:79, z:62)\n",
      "------------------------------\n",
      "Prediction: \n",
      "Label: duplicateObject(target='cube', location=x:-4, y:-70, z:-91)\n",
      "------------------------------\n",
      "Prediction: \n",
      "Label: setTexture(target='pyramid', texture='glass')\n",
      "------------------------------\n",
      "Prediction: \n",
      "Label: scaleObject(target='sphere', scale=0.7778259875546081)\n",
      "------------------------------\n"
     ]
    },
    {
     "name": "stderr",
     "output_type": "stream",
     "text": [
      "/opt/anaconda3/lib/python3.10/site-packages/transformers/generation/utils.py:1220: UserWarning: Using the model-agnostic default `max_length` (=20) to control the generation length. We recommend setting `max_new_tokens` to control the maximum length of the generation.\n",
      "  warnings.warn(\n"
     ]
    },
    {
     "name": "stdout",
     "output_type": "stream",
     "text": [
      "Prediction: \n",
      "Label: changeColor(target='sphere', color='blue')\n",
      "------------------------------\n",
      "Prediction: \n",
      "Label: duplicateObject(target='pyramid', location=x:-56, y:79, z:62)\n",
      "------------------------------\n",
      "Prediction: \n",
      "Label: duplicateObject(target='cube', location=x:-4, y:-70, z:-91)\n",
      "------------------------------\n",
      "Prediction: \n",
      "Label: setTexture(target='pyramid', texture='glass')\n",
      "------------------------------\n",
      "Prediction: \n",
      "Label: scaleObject(target='sphere', scale=0.7778259875546081)\n",
      "------------------------------\n"
     ]
    },
    {
     "name": "stderr",
     "output_type": "stream",
     "text": [
      "/opt/anaconda3/lib/python3.10/site-packages/transformers/generation/utils.py:1220: UserWarning: Using the model-agnostic default `max_length` (=20) to control the generation length. We recommend setting `max_new_tokens` to control the maximum length of the generation.\n",
      "  warnings.warn(\n"
     ]
    },
    {
     "name": "stdout",
     "output_type": "stream",
     "text": [
      "Prediction: \n",
      "Label: changeColor(target='sphere', color='blue')\n",
      "------------------------------\n",
      "Prediction: \n",
      "Label: duplicateObject(target='pyramid', location=x:-56, y:79, z:62)\n",
      "------------------------------\n",
      "Prediction: \n",
      "Label: duplicateObject(target='cube', location=x:-4, y:-70, z:-91)\n",
      "------------------------------\n",
      "Prediction: SetTexture(target='pyramid', texture='glass')\n",
      "Label: setTexture(target='pyramid', texture='glass')\n",
      "------------------------------\n",
      "Prediction: \n",
      "Label: scaleObject(target='sphere', scale=0.7778259875546081)\n",
      "------------------------------\n"
     ]
    },
    {
     "name": "stderr",
     "output_type": "stream",
     "text": [
      "/opt/anaconda3/lib/python3.10/site-packages/transformers/generation/utils.py:1220: UserWarning: Using the model-agnostic default `max_length` (=20) to control the generation length. We recommend setting `max_new_tokens` to control the maximum length of the generation.\n",
      "  warnings.warn(\n"
     ]
    },
    {
     "name": "stdout",
     "output_type": "stream",
     "text": [
      "Prediction: ChangeColor(target='sphere', color='blue')\n",
      "Label: changeColor(target='sphere', color='blue')\n",
      "------------------------------\n",
      "Prediction: \n",
      "Label: duplicateObject(target='pyramid', location=x:-56, y:79, z:62)\n",
      "------------------------------\n",
      "Prediction: \n",
      "Label: duplicateObject(target='cube', location=x:-4, y:-70, z:-91)\n",
      "------------------------------\n",
      "Prediction: SetTexture(target='pyramid', texture='glass')\n",
      "Label: setTexture(target='pyramid', texture='glass')\n",
      "------------------------------\n",
      "Prediction: \n",
      "Label: scaleObject(target='sphere', scale=0.7778259875546081)\n",
      "------------------------------\n"
     ]
    },
    {
     "name": "stderr",
     "output_type": "stream",
     "text": [
      "/opt/anaconda3/lib/python3.10/site-packages/transformers/generation/utils.py:1220: UserWarning: Using the model-agnostic default `max_length` (=20) to control the generation length. We recommend setting `max_new_tokens` to control the maximum length of the generation.\n",
      "  warnings.warn(\n"
     ]
    },
    {
     "name": "stdout",
     "output_type": "stream",
     "text": [
      "Prediction: ChangeColor(target='sphere', color='blue')\n",
      "Label: changeColor(target='sphere', color='blue')\n",
      "------------------------------\n",
      "Prediction: \n",
      "Label: duplicateObject(target='pyramid', location=x:-56, y:79, z:62)\n",
      "------------------------------\n",
      "Prediction: \n",
      "Label: duplicateObject(target='cube', location=x:-4, y:-70, z:-91)\n",
      "------------------------------\n",
      "Prediction: SetTexture(target='pyramid', texture='glass')\n",
      "Label: setTexture(target='pyramid', texture='glass')\n",
      "------------------------------\n",
      "Prediction: scaleObject(target='sphere', scale=1.143394945090929\n",
      "Label: scaleObject(target='sphere', scale=0.7778259875546081)\n",
      "------------------------------\n"
     ]
    },
    {
     "name": "stderr",
     "output_type": "stream",
     "text": [
      "/opt/anaconda3/lib/python3.10/site-packages/transformers/generation/utils.py:1220: UserWarning: Using the model-agnostic default `max_length` (=20) to control the generation length. We recommend setting `max_new_tokens` to control the maximum length of the generation.\n",
      "  warnings.warn(\n"
     ]
    },
    {
     "data": {
      "text/html": [
       "\n",
       "    <div>\n",
       "      \n",
       "      <progress value='23' max='23' style='width:300px; height:20px; vertical-align: middle;'></progress>\n",
       "      [23/23 00:19]\n",
       "    </div>\n",
       "    "
      ],
      "text/plain": [
       "<IPython.core.display.HTML object>"
      ]
     },
     "metadata": {},
     "output_type": "display_data"
    },
    {
     "name": "stdout",
     "output_type": "stream",
     "text": [
      "Prediction: ChangeColor(target='sphere', color='blue')\n",
      "Label: changeColor(target='sphere', color='blue')\n",
      "------------------------------\n",
      "Prediction: \n",
      "Label: duplicateObject(target='pyramid', location=x:-56, y:79, z:62)\n",
      "------------------------------\n",
      "Prediction: \n",
      "Label: duplicateObject(target='cube', location=x:-4, y:-70, z:-91)\n",
      "------------------------------\n",
      "Prediction: SetTexture(target='pyramid', texture='glass')\n",
      "Label: setTexture(target='pyramid', texture='glass')\n",
      "------------------------------\n",
      "Prediction: scaleObject(target='sphere', scale=1.143394945090929\n",
      "Label: scaleObject(target='sphere', scale=0.7778259875546081)\n",
      "------------------------------\n"
     ]
    },
    {
     "data": {
      "text/plain": [
       "{'eval_loss': 0.07765594869852066,\n",
       " 'eval_accuracy': 0.14444444444444443,\n",
       " 'eval_runtime': 21.9223,\n",
       " 'eval_samples_per_second': 8.211,\n",
       " 'eval_steps_per_second': 1.049,\n",
       " 'epoch': 5.0}"
      ]
     },
     "execution_count": 6,
     "metadata": {},
     "output_type": "execute_result"
    }
   ],
   "source": [
    "trainer.train()\n",
    "\n",
    "trainer.evaluate()"
   ]
  },
  {
   "cell_type": "code",
   "execution_count": 7,
   "id": "de2ccd91-3ef0-4de5-a7fe-6a818fa79117",
   "metadata": {},
   "outputs": [
    {
     "data": {
      "text/plain": [
       "('trained_models/2024_10_20_00_09/tokenizer_config.json',\n",
       " 'trained_models/2024_10_20_00_09/special_tokens_map.json',\n",
       " 'trained_models/2024_10_20_00_09/spiece.model',\n",
       " 'trained_models/2024_10_20_00_09/added_tokens.json')"
      ]
     },
     "execution_count": 7,
     "metadata": {},
     "output_type": "execute_result"
    }
   ],
   "source": [
    "from datetime import datetime\n",
    "\n",
    "# Get current date and time\n",
    "now = datetime.now()\n",
    "\n",
    "# Format as 'Y-m-d H:i'\n",
    "formatted_time = now.strftime('%Y_%m_%d_%H_%M')\n",
    "\n",
    "# Assuming the model and tokenizer are already loaded and trained\n",
    "model.save_pretrained(\"trained_models/\" + formatted_time)\n",
    "tokenizer.save_pretrained(\"trained_models/\"  + formatted_time)"
   ]
  },
  {
   "cell_type": "code",
   "execution_count": 8,
   "id": "d81c0abe-b8a9-4180-8ba1-a7b108d050bb",
   "metadata": {},
   "outputs": [
    {
     "name": "stderr",
     "output_type": "stream",
     "text": [
      "You set `add_prefix_space`. The tokenizer needs to be converted from the slow tokenizers\n"
     ]
    },
    {
     "name": "stdout",
     "output_type": "stream",
     "text": [
      "Answer:{CreateObject(target='pyramid', color='blue', location=}\n"
     ]
    },
    {
     "name": "stderr",
     "output_type": "stream",
     "text": [
      "/opt/anaconda3/lib/python3.10/site-packages/transformers/generation/utils.py:1220: UserWarning: Using the model-agnostic default `max_length` (=20) to control the generation length. We recommend setting `max_new_tokens` to control the maximum length of the generation.\n",
      "  warnings.warn(\n"
     ]
    },
    {
     "name": "stdout",
     "output_type": "stream",
     "text": [
      "Model Output: [CreateObject(target='cube', color='red', location=]\n"
     ]
    }
   ],
   "source": [
    "from transformers import AutoTokenizer, AutoModelForSeq2SeqLM\n",
    "\n",
    "input_text = \"Create a blue pyramid at 25 -31 -79\"\n",
    "\n",
    "model_name_or_path = \"trained_models/\" + formatted_time #path/to/your/model/or/name/on/hub\n",
    "device = \"cpu\" # or \"cuda\" if you have a GPU\n",
    "\n",
    "\n",
    "\n",
    "trainedModel = AutoModelForSeq2SeqLM.from_pretrained(model_name_or_path).to(device)\n",
    "trainedTokenizer = AutoTokenizer.from_pretrained(model_name_or_path)\n",
    "\n",
    "inputs = trainedTokenizer(input_text, return_tensors='pt', max_length=128, truncation=True, padding='max_length').to(device)\n",
    "outputs = trainedModel.generate(inputs['input_ids'],     max_new_tokens=128)\n",
    "print(\"Answer:{\" + trainedTokenizer.decode(outputs[0], skip_special_tokens=True)+\"}\")\n",
    "\n",
    "\n",
    "# After training, during evaluation or inference, check predictions\n",
    "outputs = trainedModel.generate(\n",
    "    trainedTokenizer(\"Create a red cube at 10, 20, 30.\", return_tensors=\"pt\").input_ids,\n",
    "num_beams=4,    # Beam search to improve output quality\n",
    "    early_stopping=True,\n",
    ")\n",
    "    # Stop once output is complete)\n",
    "\n",
    "# Decode the model's predictions\n",
    "decoded_output = trainedTokenizer.decode(outputs[0], skip_special_tokens=True)\n",
    "print(f\"Model Output: [{decoded_output}]\")"
   ]
  }
 ],
 "metadata": {
  "kernelspec": {
   "display_name": "Python 3 (ipykernel)",
   "language": "python",
   "name": "python3"
  },
  "language_info": {
   "codemirror_mode": {
    "name": "ipython",
    "version": 3
   },
   "file_extension": ".py",
   "mimetype": "text/x-python",
   "name": "python",
   "nbconvert_exporter": "python",
   "pygments_lexer": "ipython3",
   "version": "3.10.0"
  }
 },
 "nbformat": 4,
 "nbformat_minor": 5
}
