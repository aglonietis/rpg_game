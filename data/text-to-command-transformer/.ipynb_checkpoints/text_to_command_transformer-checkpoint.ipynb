{
 "cells": [
  {
   "cell_type": "code",
   "execution_count": 3,
   "id": "542e6195-6de4-4215-87d7-4004d242b17b",
   "metadata": {},
   "outputs": [
    {
     "name": "stdout",
     "output_type": "stream",
     "text": [
      "Requirement already satisfied: optimum in /opt/anaconda3/lib/python3.10/site-packages (1.23.1)\n",
      "Requirement already satisfied: coloredlogs in /opt/anaconda3/lib/python3.10/site-packages (from optimum) (15.0.1)\n",
      "Requirement already satisfied: sympy in /opt/anaconda3/lib/python3.10/site-packages (from optimum) (1.13.1)\n",
      "Requirement already satisfied: transformers>=4.29 in /opt/anaconda3/lib/python3.10/site-packages (from transformers[sentencepiece]>=4.29->optimum) (4.45.2)\n",
      "Requirement already satisfied: torch>=1.11 in /opt/anaconda3/lib/python3.10/site-packages (from optimum) (2.5.0)\n",
      "Requirement already satisfied: packaging in /opt/anaconda3/lib/python3.10/site-packages (from optimum) (24.1)\n",
      "Requirement already satisfied: numpy in /opt/anaconda3/lib/python3.10/site-packages (from optimum) (1.26.4)\n",
      "Requirement already satisfied: huggingface-hub>=0.8.0 in /opt/anaconda3/lib/python3.10/site-packages (from optimum) (0.25.2)\n",
      "Requirement already satisfied: datasets in /opt/anaconda3/lib/python3.10/site-packages (from optimum) (3.0.1)\n",
      "Requirement already satisfied: filelock in /opt/anaconda3/lib/python3.10/site-packages (from huggingface-hub>=0.8.0->optimum) (3.13.1)\n",
      "Requirement already satisfied: fsspec>=2023.5.0 in /opt/anaconda3/lib/python3.10/site-packages (from huggingface-hub>=0.8.0->optimum) (2024.6.1)\n",
      "Requirement already satisfied: pyyaml>=5.1 in /opt/anaconda3/lib/python3.10/site-packages (from huggingface-hub>=0.8.0->optimum) (6.0.2)\n",
      "Requirement already satisfied: requests in /opt/anaconda3/lib/python3.10/site-packages (from huggingface-hub>=0.8.0->optimum) (2.32.3)\n",
      "Requirement already satisfied: tqdm>=4.42.1 in /opt/anaconda3/lib/python3.10/site-packages (from huggingface-hub>=0.8.0->optimum) (4.66.5)\n",
      "Requirement already satisfied: typing-extensions>=3.7.4.3 in /opt/anaconda3/lib/python3.10/site-packages (from huggingface-hub>=0.8.0->optimum) (4.11.0)\n",
      "Requirement already satisfied: networkx in /opt/anaconda3/lib/python3.10/site-packages (from torch>=1.11->optimum) (3.3)\n",
      "Requirement already satisfied: jinja2 in /opt/anaconda3/lib/python3.10/site-packages (from torch>=1.11->optimum) (3.1.4)\n",
      "Requirement already satisfied: mpmath<1.4,>=1.1.0 in /opt/anaconda3/lib/python3.10/site-packages (from sympy->optimum) (1.3.0)\n",
      "Requirement already satisfied: regex!=2019.12.17 in /opt/anaconda3/lib/python3.10/site-packages (from transformers>=4.29->transformers[sentencepiece]>=4.29->optimum) (2024.9.11)\n",
      "Requirement already satisfied: safetensors>=0.4.1 in /opt/anaconda3/lib/python3.10/site-packages (from transformers>=4.29->transformers[sentencepiece]>=4.29->optimum) (0.4.5)\n",
      "Requirement already satisfied: tokenizers<0.21,>=0.20 in /opt/anaconda3/lib/python3.10/site-packages (from transformers>=4.29->transformers[sentencepiece]>=4.29->optimum) (0.20.1)\n",
      "Requirement already satisfied: protobuf in /opt/anaconda3/lib/python3.10/site-packages (from transformers[sentencepiece]>=4.29->optimum) (3.20.3)\n",
      "Requirement already satisfied: sentencepiece!=0.1.92,>=0.1.91 in /opt/anaconda3/lib/python3.10/site-packages (from transformers[sentencepiece]>=4.29->optimum) (0.2.0)\n",
      "Requirement already satisfied: humanfriendly>=9.1 in /opt/anaconda3/lib/python3.10/site-packages (from coloredlogs->optimum) (10.0)\n",
      "Requirement already satisfied: pyarrow>=15.0.0 in /opt/anaconda3/lib/python3.10/site-packages (from datasets->optimum) (17.0.0)\n",
      "Requirement already satisfied: dill<0.3.9,>=0.3.0 in /opt/anaconda3/lib/python3.10/site-packages (from datasets->optimum) (0.3.8)\n",
      "Requirement already satisfied: pandas in /opt/anaconda3/lib/python3.10/site-packages (from datasets->optimum) (2.2.2)\n",
      "Requirement already satisfied: xxhash in /opt/anaconda3/lib/python3.10/site-packages (from datasets->optimum) (3.5.0)\n",
      "Requirement already satisfied: multiprocess in /opt/anaconda3/lib/python3.10/site-packages (from datasets->optimum) (0.70.16)\n",
      "Requirement already satisfied: aiohttp in /opt/anaconda3/lib/python3.10/site-packages (from datasets->optimum) (3.10.5)\n",
      "Requirement already satisfied: aiohappyeyeballs>=2.3.0 in /opt/anaconda3/lib/python3.10/site-packages (from aiohttp->datasets->optimum) (2.4.0)\n",
      "Requirement already satisfied: aiosignal>=1.1.2 in /opt/anaconda3/lib/python3.10/site-packages (from aiohttp->datasets->optimum) (1.2.0)\n",
      "Requirement already satisfied: attrs>=17.3.0 in /opt/anaconda3/lib/python3.10/site-packages (from aiohttp->datasets->optimum) (24.2.0)\n",
      "Requirement already satisfied: frozenlist>=1.1.1 in /opt/anaconda3/lib/python3.10/site-packages (from aiohttp->datasets->optimum) (1.4.0)\n",
      "Requirement already satisfied: multidict<7.0,>=4.5 in /opt/anaconda3/lib/python3.10/site-packages (from aiohttp->datasets->optimum) (6.0.4)\n",
      "Requirement already satisfied: yarl<2.0,>=1.0 in /opt/anaconda3/lib/python3.10/site-packages (from aiohttp->datasets->optimum) (1.11.0)\n",
      "Requirement already satisfied: async-timeout<5.0,>=4.0 in /opt/anaconda3/lib/python3.10/site-packages (from aiohttp->datasets->optimum) (4.0.3)\n",
      "Requirement already satisfied: charset-normalizer<4,>=2 in /opt/anaconda3/lib/python3.10/site-packages (from requests->huggingface-hub>=0.8.0->optimum) (2.0.4)\n",
      "Requirement already satisfied: idna<4,>=2.5 in /opt/anaconda3/lib/python3.10/site-packages (from requests->huggingface-hub>=0.8.0->optimum) (3.7)\n",
      "Requirement already satisfied: urllib3<3,>=1.21.1 in /opt/anaconda3/lib/python3.10/site-packages (from requests->huggingface-hub>=0.8.0->optimum) (2.2.3)\n",
      "Requirement already satisfied: certifi>=2017.4.17 in /opt/anaconda3/lib/python3.10/site-packages (from requests->huggingface-hub>=0.8.0->optimum) (2024.8.30)\n",
      "Requirement already satisfied: MarkupSafe>=2.0 in /opt/anaconda3/lib/python3.10/site-packages (from jinja2->torch>=1.11->optimum) (2.1.3)\n",
      "Requirement already satisfied: python-dateutil>=2.8.2 in /opt/anaconda3/lib/python3.10/site-packages (from pandas->datasets->optimum) (2.9.0.post0)\n",
      "Requirement already satisfied: pytz>=2020.1 in /opt/anaconda3/lib/python3.10/site-packages (from pandas->datasets->optimum) (2024.1)\n",
      "Requirement already satisfied: tzdata>=2022.7 in /opt/anaconda3/lib/python3.10/site-packages (from pandas->datasets->optimum) (2023.3)\n",
      "Requirement already satisfied: six>=1.5 in /opt/anaconda3/lib/python3.10/site-packages (from python-dateutil>=2.8.2->pandas->datasets->optimum) (1.16.0)\n",
      "Hello, pip installation is done\n"
     ]
    }
   ],
   "source": [
    "!pip install transformers > /dev/null 2>&1\n",
    "!pip install datasets \"transformers[sentencepiece]\" > /dev/null 2>&1\n",
    "!pip install sentencepiece > /dev/null 2>&1\n",
    "!pip install bitsandbytes > /dev/null 2>&1\n",
    "!pip install accelerate -U > /dev/null 2>&1\n",
    "!pip install --upgrade jupyterlab ipywidgets > /dev/null 2>&1\n",
    "!pip install evaluate > /dev/null 2>&1\n",
    "!pip install optimum\n",
    "\n",
    "print(\"Hello, pip installation is done\")"
   ]
  },
  {
   "cell_type": "code",
   "execution_count": 4,
   "id": "e0e4f5ad-30ae-44a8-bb4e-da151692b9f7",
   "metadata": {},
   "outputs": [
    {
     "name": "stdout",
     "output_type": "stream",
     "text": [
      "Dataset({\n",
      "    features: ['input', 'output'],\n",
      "    num_rows: 900\n",
      "})\n",
      "                                   input  \\\n",
      "0    Create a green pyramid at 68 -50 -6   \n",
      "1      Create a yellow cube at -75 33 41   \n",
      "2     Create a green sphere at 16 54 -15   \n",
      "3      Create a red pyramid at 70 90 -46   \n",
      "4  Create a yellow pyramid at 31 -80 -52   \n",
      "\n",
      "                                    output  \n",
      "0    create-object pyramid green 68 -50 -6  \n",
      "1      create-object cube yellow -75 33 41  \n",
      "2     create-object sphere green 16 54 -15  \n",
      "3      create-object pyramid red 70 90 -46  \n",
      "4  create-object pyramid yellow 31 -80 -52  \n"
     ]
    }
   ],
   "source": [
    "from datasets import Dataset\n",
    "import pandas as pd\n",
    "\n",
    "df = pd.read_csv('datasets/cli_natural_language_command_dataset.csv')\n",
    "\n",
    "dataset = Dataset.from_pandas(df)\n",
    "\n",
    "print(dataset)\n",
    "print(df.head())\n",
    "\n"
   ]
  },
  {
   "cell_type": "code",
   "execution_count": 5,
   "id": "952e9cdb-38ba-40d0-bcf8-5b136f670387",
   "metadata": {},
   "outputs": [
    {
     "name": "stderr",
     "output_type": "stream",
     "text": [
      "You are using the default legacy behaviour of the <class 'transformers.models.t5.tokenization_t5.T5Tokenizer'>. This is expected, and simply means that the `legacy` (previous) behavior will be used so nothing changes for you. If you want to use the new behaviour, set `legacy=False`. This should only be set if you understand what it means, and thoroughly read the reason why this was added as explained in https://github.com/huggingface/transformers/pull/24565\n"
     ]
    },
    {
     "data": {
      "application/vnd.jupyter.widget-view+json": {
       "model_id": "32c60adfc7414082b3db7af65a7e32ad",
       "version_major": 2,
       "version_minor": 0
      },
      "text/plain": [
       "Map:   0%|          | 0/900 [00:00<?, ? examples/s]"
      ]
     },
     "metadata": {},
     "output_type": "display_data"
    },
    {
     "name": "stdout",
     "output_type": "stream",
     "text": [
      "Train size: 720, Test size: 180\n",
      "{'input_ids': [3, 28141, 22734, 1, 0, 0, 0, 0, 0, 0, 0, 0, 0, 0, 0, 0, 0, 0, 0, 0, 0, 0, 0, 0, 0, 0, 0, 0, 0, 0, 0, 0, 0, 0, 0, 0, 0, 0, 0, 0, 0, 0, 0, 0, 0, 0, 0, 0, 0, 0, 0, 0, 0, 0, 0, 0, 0, 0, 0, 0, 0, 0, 0, 0, 0, 0, 0, 0, 0, 0, 0, 0, 0, 0, 0, 0, 0, 0, 0, 0, 0, 0, 0, 0, 0, 0, 0, 0, 0, 0, 0, 0, 0, 0, 0, 0, 0, 0, 0, 0, 0, 0, 0, 0, 0, 0, 0, 0, 0, 0, 0, 0, 0, 0, 0, 0, 0, 0, 0, 0, 0, 0, 0, 0, 0, 0, 0, 0], 'attention_mask': [1, 1, 1, 1, 0, 0, 0, 0, 0, 0, 0, 0, 0, 0, 0, 0, 0, 0, 0, 0, 0, 0, 0, 0, 0, 0, 0, 0, 0, 0, 0, 0, 0, 0, 0, 0, 0, 0, 0, 0, 0, 0, 0, 0, 0, 0, 0, 0, 0, 0, 0, 0, 0, 0, 0, 0, 0, 0, 0, 0, 0, 0, 0, 0, 0, 0, 0, 0, 0, 0, 0, 0, 0, 0, 0, 0, 0, 0, 0, 0, 0, 0, 0, 0, 0, 0, 0, 0, 0, 0, 0, 0, 0, 0, 0, 0, 0, 0, 0, 0, 0, 0, 0, 0, 0, 0, 0, 0, 0, 0, 0, 0, 0, 0, 0, 0, 0, 0, 0, 0, 0, 0, 0, 0, 0, 0, 0, 0], 'labels': [9268, 18, 30536, 22734, 1, 0, 0, 0, 0, 0, 0, 0, 0, 0, 0, 0, 0, 0, 0, 0, 0, 0, 0, 0, 0, 0, 0, 0, 0, 0, 0, 0, 0, 0, 0, 0, 0, 0, 0, 0, 0, 0, 0, 0, 0, 0, 0, 0, 0, 0, 0, 0, 0, 0, 0, 0, 0, 0, 0, 0, 0, 0, 0, 0, 0, 0, 0, 0, 0, 0, 0, 0, 0, 0, 0, 0, 0, 0, 0, 0, 0, 0, 0, 0, 0, 0, 0, 0, 0, 0, 0, 0, 0, 0, 0, 0, 0, 0, 0, 0, 0, 0, 0, 0, 0, 0, 0, 0, 0, 0, 0, 0, 0, 0, 0, 0, 0, 0, 0, 0, 0, 0, 0, 0, 0, 0, 0, 0]}\n"
     ]
    }
   ],
   "source": [
    "\n",
    "from transformers import T5Tokenizer\n",
    "\n",
    "tokenizer = T5Tokenizer.from_pretrained('t5-small')\n",
    "\n",
    "def tokenize_function(examples):\n",
    "    model_inputs = tokenizer(examples['input'], max_length=128, truncation=True, padding='max_length')\n",
    "    labels = tokenizer(examples['output'], max_length=128, truncation=True, padding='max_length')\n",
    "    \n",
    "    # Store the labels\n",
    "    model_inputs[\"labels\"] = labels[\"input_ids\"]\n",
    "    return model_inputs\n",
    "\n",
    "# Step to shuffle the dataset before processing\n",
    "shuffled_dataset = dataset.shuffle(seed=42)  # You can set a seed for reproducibility\n",
    "# Tokenize the dataset\n",
    "tokenized_dataset = shuffled_dataset.map(tokenize_function, batched=True)\n",
    "# Remove non-tokenized columns to clean the dataset\n",
    "tokenized_dataset = tokenized_dataset.remove_columns(['input', 'output'])\n",
    "\n",
    "\n",
    "# Split the dataset into 80% train and 20% test\n",
    "train_test_split = tokenized_dataset.train_test_split(test_size=0.2)\n",
    "\n",
    "# Access the train and test sets\n",
    "train_dataset = train_test_split['train']\n",
    "eval_dataset = train_test_split['test']\n",
    "\n",
    "# Verify the sizes\n",
    "print(f\"Train size: {len(train_dataset)}, Test size: {len(eval_dataset)}\")\n",
    "print(tokenized_dataset[0])"
   ]
  },
  {
   "cell_type": "code",
   "execution_count": 6,
   "id": "39ec1ae2-fd63-40be-87c6-c3a67db4e20a",
   "metadata": {},
   "outputs": [],
   "source": [
    "from sklearn.metrics import accuracy_score\n",
    "import numpy as np\n",
    "import evaluate\n",
    "\n",
    "metric = evaluate.load(\"accuracy\")\n",
    "\n",
    "def compute_metrics(eval_pred):\n",
    "    predictions, labels = eval_pred\n",
    "    # Convert predictions and labels to text (if using text generation models like T5)\n",
    "    decoded_preds = tokenizer.batch_decode(predictions, skip_special_tokens=True)\n",
    "    decoded_labels = tokenizer.batch_decode(labels, skip_special_tokens=True)\n",
    "    \n",
    "    # Optionally, log the decoded predictions and labels\n",
    "    for i in range(5):  # Log the first 5 predictions\n",
    "        print(f\"Prediction: {decoded_preds[i]}\")\n",
    "        print(f\"Label: {decoded_labels[i]}\")\n",
    "        print('-' * 30)\n",
    "    \n",
    "    # Calculate your metrics (example: accuracy for simple tasks)\n",
    "    acc = accuracy_score(decoded_labels, decoded_preds)\n",
    "    \n",
    "    return {\"accuracy\": acc}"
   ]
  },
  {
   "cell_type": "code",
   "execution_count": 7,
   "id": "e3a89069-09e5-49a1-b2db-fe6dbf2e13f4",
   "metadata": {},
   "outputs": [],
   "source": [
    "from transformers import TrainingArguments,Seq2SeqTrainer, AutoModelForSeq2SeqLM, Seq2SeqTrainingArguments\n",
    "\n",
    "model = AutoModelForSeq2SeqLM.from_pretrained('t5-small')\n",
    "\n",
    "training_args = Seq2SeqTrainingArguments(\n",
    "    output_dir=\"test_trainer\",\n",
    "    eval_strategy=\"epoch\",\n",
    "    learning_rate=5e-5,\n",
    "    per_device_train_batch_size=8,\n",
    "    per_device_eval_batch_size=8,\n",
    "    weight_decay=0.01,\n",
    "    # save_total_limit=3,\n",
    "    num_train_epochs=7,\n",
    "    predict_with_generate=True,\n",
    "    logging_dir='./logs',\n",
    "    fp16=False,\n",
    ")\n",
    "\n",
    "trainer = Seq2SeqTrainer(\n",
    "    model=model,\n",
    "    args=training_args,\n",
    "    train_dataset=train_dataset,\n",
    "    eval_dataset=eval_dataset,\n",
    "    compute_metrics=compute_metrics,\n",
    ")"
   ]
  },
  {
   "cell_type": "code",
   "execution_count": null,
   "id": "73811cef-9ada-445e-89bf-3ff2cc6348a7",
   "metadata": {},
   "outputs": [
    {
     "data": {
      "text/html": [
       "\n",
       "    <div>\n",
       "      \n",
       "      <progress value='451' max='630' style='width:300px; height:20px; vertical-align: middle;'></progress>\n",
       "      [451/630 02:56 < 01:10, 2.55 it/s, Epoch 5/7]\n",
       "    </div>\n",
       "    <table border=\"1\" class=\"dataframe\">\n",
       "  <thead>\n",
       " <tr style=\"text-align: left;\">\n",
       "      <th>Epoch</th>\n",
       "      <th>Training Loss</th>\n",
       "      <th>Validation Loss</th>\n",
       "      <th>Accuracy</th>\n",
       "    </tr>\n",
       "  </thead>\n",
       "  <tbody>\n",
       "    <tr>\n",
       "      <td>1</td>\n",
       "      <td>No log</td>\n",
       "      <td>0.317779</td>\n",
       "      <td>0.000000</td>\n",
       "    </tr>\n",
       "    <tr>\n",
       "      <td>2</td>\n",
       "      <td>No log</td>\n",
       "      <td>0.055082</td>\n",
       "      <td>0.000000</td>\n",
       "    </tr>\n",
       "    <tr>\n",
       "      <td>3</td>\n",
       "      <td>No log</td>\n",
       "      <td>0.006726</td>\n",
       "      <td>0.888889</td>\n",
       "    </tr>\n",
       "    <tr>\n",
       "      <td>4</td>\n",
       "      <td>No log</td>\n",
       "      <td>0.003187</td>\n",
       "      <td>0.961111</td>\n",
       "    </tr>\n",
       "  </tbody>\n",
       "</table><p>"
      ],
      "text/plain": [
       "<IPython.core.display.HTML object>"
      ]
     },
     "metadata": {},
     "output_type": "display_data"
    },
    {
     "name": "stderr",
     "output_type": "stream",
     "text": [
      "/opt/anaconda3/lib/python3.10/site-packages/transformers/generation/utils.py:1220: UserWarning: Using the model-agnostic default `max_length` (=20) to control the generation length. We recommend setting `max_new_tokens` to control the maximum length of the generation.\n",
      "  warnings.warn(\n"
     ]
    },
    {
     "name": "stdout",
     "output_type": "stream",
     "text": [
      "Prediction: \n",
      "Label: create-object cube yellow -70 58 31\n",
      "------------------------------\n",
      "Prediction: \n",
      "Label: delete-object cube\n",
      "------------------------------\n",
      "Prediction: \n",
      "Label: move-object pyramid 28 88 66\n",
      "------------------------------\n",
      "Prediction: \n",
      "Label: move-object sphere -19 56 -47\n",
      "------------------------------\n",
      "Prediction: \n",
      "Label: create-object cube green 95 -55 -77\n",
      "------------------------------\n"
     ]
    },
    {
     "name": "stderr",
     "output_type": "stream",
     "text": [
      "/opt/anaconda3/lib/python3.10/site-packages/transformers/generation/utils.py:1220: UserWarning: Using the model-agnostic default `max_length` (=20) to control the generation length. We recommend setting `max_new_tokens` to control the maximum length of the generation.\n",
      "  warnings.warn(\n"
     ]
    },
    {
     "name": "stdout",
     "output_type": "stream",
     "text": [
      "Prediction: \n",
      "Label: create-object cube yellow -70 58 31\n",
      "------------------------------\n",
      "Prediction: \n",
      "Label: delete-object cube\n",
      "------------------------------\n",
      "Prediction: \n",
      "Label: move-object pyramid 28 88 66\n",
      "------------------------------\n",
      "Prediction: \n",
      "Label: move-object sphere -19 56 -47\n",
      "------------------------------\n",
      "Prediction: \n",
      "Label: create-object cube green 95 -55 -77\n",
      "------------------------------\n"
     ]
    },
    {
     "name": "stderr",
     "output_type": "stream",
     "text": [
      "/opt/anaconda3/lib/python3.10/site-packages/transformers/generation/utils.py:1220: UserWarning: Using the model-agnostic default `max_length` (=20) to control the generation length. We recommend setting `max_new_tokens` to control the maximum length of the generation.\n",
      "  warnings.warn(\n"
     ]
    },
    {
     "name": "stdout",
     "output_type": "stream",
     "text": [
      "Prediction: create-object cube yellow -70 58 31\n",
      "Label: create-object cube yellow -70 58 31\n",
      "------------------------------\n",
      "Prediction: delete-object cube\n",
      "Label: delete-object cube\n",
      "------------------------------\n",
      "Prediction: move-object pyramid 28 88 66\n",
      "Label: move-object pyramid 28 88 66\n",
      "------------------------------\n",
      "Prediction: move-object sphere -19 56 -47\n",
      "Label: move-object sphere -19 56 -47\n",
      "------------------------------\n",
      "Prediction: create-object cube green 95 -55 -77\n",
      "Label: create-object cube green 95 -55 -77\n",
      "------------------------------\n"
     ]
    },
    {
     "name": "stderr",
     "output_type": "stream",
     "text": [
      "/opt/anaconda3/lib/python3.10/site-packages/transformers/generation/utils.py:1220: UserWarning: Using the model-agnostic default `max_length` (=20) to control the generation length. We recommend setting `max_new_tokens` to control the maximum length of the generation.\n",
      "  warnings.warn(\n"
     ]
    },
    {
     "name": "stdout",
     "output_type": "stream",
     "text": [
      "Prediction: create-object cube yellow -70 58 31\n",
      "Label: create-object cube yellow -70 58 31\n",
      "------------------------------\n",
      "Prediction: delete-object cube\n",
      "Label: delete-object cube\n",
      "------------------------------\n",
      "Prediction: move-object pyramid 28 88 66\n",
      "Label: move-object pyramid 28 88 66\n",
      "------------------------------\n",
      "Prediction: move-object sphere -19 56 -47\n",
      "Label: move-object sphere -19 56 -47\n",
      "------------------------------\n",
      "Prediction: create-object cube green 95 -55 -77\n",
      "Label: create-object cube green 95 -55 -77\n",
      "------------------------------\n"
     ]
    }
   ],
   "source": [
    "trainer.train()"
   ]
  },
  {
   "cell_type": "code",
   "execution_count": null,
   "id": "de2ccd91-3ef0-4de5-a7fe-6a818fa79117",
   "metadata": {},
   "outputs": [],
   "source": [
    "from datetime import datetime\n",
    "\n",
    "# Get current date and time\n",
    "now = datetime.now()\n",
    "\n",
    "# Format as 'Y-m-d H:i'\n",
    "formatted_time = now.strftime('%Y_%m_%d_%H_%M')\n",
    "\n",
    "# Assuming the model and tokenizer are already loaded and trained\n",
    "model.save_pretrained(\"trained_models/\" + formatted_time)\n",
    "tokenizer.save_pretrained(\"trained_models/\"  + formatted_time)"
   ]
  },
  {
   "cell_type": "code",
   "execution_count": null,
   "id": "d81c0abe-b8a9-4180-8ba1-a7b108d050bb",
   "metadata": {},
   "outputs": [],
   "source": [
    "from transformers import AutoTokenizer, AutoModelForSeq2SeqLM\n",
    "\n",
    "input_text = \"Create a blue pyramid at 25 -31 -79\"\n",
    "\n",
    "model_name_or_path = \"trained_models/\" + formatted_time #path/to/your/model/or/name/on/hub\n",
    "device = \"cpu\" # or \"cuda\" if you have a GPU\n",
    "\n",
    "\n",
    "\n",
    "trainedModel = AutoModelForSeq2SeqLM.from_pretrained(model_name_or_path).to(device)\n",
    "trainedTokenizer = AutoTokenizer.from_pretrained(model_name_or_path)\n",
    "\n",
    "inputs = trainedTokenizer(input_text, return_tensors='pt', max_length=128, truncation=True, padding='max_length').to(device)\n",
    "outputs = trainedModel.generate(inputs['input_ids'],     max_new_tokens=128)\n",
    "print(\"Answer:{\" + trainedTokenizer.decode(outputs[0], skip_special_tokens=True)+\"}\")\n",
    "\n",
    "\n",
    "# After training, during evaluation or inference, check predictions\n",
    "outputs = trainedModel.generate(\n",
    "    trainedTokenizer(\"Create a cube at 10 20 30\", return_tensors=\"pt\").input_ids,\n",
    "num_beams=4,    # Beam search to improve output quality\n",
    "    early_stopping=True,\n",
    ")\n",
    "    # Stop once output is complete)\n",
    "\n",
    "# Decode the model's predictions\n",
    "decoded_output = trainedTokenizer.decode(outputs[0], skip_special_tokens=True)\n",
    "print(f\"Model Output: [{decoded_output}]\")"
   ]
  },
  {
   "cell_type": "code",
   "execution_count": null,
   "id": "159832fc-5133-4c6d-aef8-ea855a620ecc",
   "metadata": {},
   "outputs": [],
   "source": [
    "from optimum.onnxruntime import ORTModelForSequenceClassification\n",
    "from transformers import AutoTokenizer\n",
    "\n",
    "save_directory = \"onnx/\"\n",
    "\n",
    "# Load a model from transformers and export it to ONNX\n",
    "ort_model = ORTModelForSequenceClassification.from_pretrained(model_name_or_path, export=True)\n",
    "tokenizer = AutoTokenizer.from_pretrained(model_checkpoint)\n",
    "\n",
    "# Save the onnx model and tokenizer\n",
    "ort_model.save_pretrained(save_directory)\n",
    "tokenizer.save_pretrained(save_directory)"
   ]
  }
 ],
 "metadata": {
  "kernelspec": {
   "display_name": "Python 3 (ipykernel)",
   "language": "python",
   "name": "python3"
  },
  "language_info": {
   "codemirror_mode": {
    "name": "ipython",
    "version": 3
   },
   "file_extension": ".py",
   "mimetype": "text/x-python",
   "name": "python",
   "nbconvert_exporter": "python",
   "pygments_lexer": "ipython3",
   "version": "3.10.0"
  }
 },
 "nbformat": 4,
 "nbformat_minor": 5
}
